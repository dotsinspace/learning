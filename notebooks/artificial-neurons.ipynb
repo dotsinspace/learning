{
  "nbformat": 4,
  "nbformat_minor": 0,
  "metadata": {
    "kernelspec": {
      "display_name": "Python 3",
      "language": "python",
      "name": "python3"
    },
    "language_info": {
      "codemirror_mode": {
        "name": "ipython",
        "version": 3
      },
      "file_extension": ".py",
      "mimetype": "text/x-python",
      "name": "python",
      "nbconvert_exporter": "python",
      "pygments_lexer": "ipython3",
      "version": "3.7.6"
    },
    "colab": {
      "name": "artificial-neurons.ipynb",
      "provenance": [],
      "include_colab_link": true
    }
  },
  "cells": [
    {
      "cell_type": "markdown",
      "metadata": {
        "id": "view-in-github",
        "colab_type": "text"
      },
      "source": [
        "<a href=\"https://colab.research.google.com/github/dotsinspace/learning/blob/main/notebooks/artificial-neurons.ipynb\" target=\"_parent\"><img src=\"https://colab.research.google.com/assets/colab-badge.svg\" alt=\"Open In Colab\"/></a>"
      ]
    },
    {
      "cell_type": "markdown",
      "metadata": {
        "id": "wvAIp_JlhU8Y"
      },
      "source": [
        "# Artificial Neuron Layer"
      ]
    },
    {
      "cell_type": "markdown",
      "metadata": {
        "id": "XqExxAQlhU8Z"
      },
      "source": [
        "In this notebook, we use PyTorch tensors to create a layer of artificial neurons that could be used within a deep learning model architecture."
      ]
    },
    {
      "cell_type": "code",
      "metadata": {
        "id": "t3ZJ9KhVhU8a"
      },
      "source": [
        "import torch\n",
        "import matplotlib.pyplot as plt"
      ],
      "execution_count": 2,
      "outputs": []
    },
    {
      "cell_type": "code",
      "metadata": {
        "id": "OX15SB16hU8d"
      },
      "source": [
        "_ = torch.manual_seed(42)"
      ],
      "execution_count": 3,
      "outputs": []
    },
    {
      "cell_type": "markdown",
      "metadata": {
        "id": "oU8z-VtUhU8g"
      },
      "source": [
        "Set number of neurons:"
      ]
    },
    {
      "cell_type": "code",
      "metadata": {
        "id": "fUyNsPPuhU8g"
      },
      "source": [
        "n_input = 784 # Flattened 28x28-pixel image\n",
        "n_dense = 128"
      ],
      "execution_count": 4,
      "outputs": []
    },
    {
      "cell_type": "markdown",
      "metadata": {
        "id": "lEfHqjdthU8i"
      },
      "source": [
        "Simulate an \"input image\" with a vector tensor `x`:"
      ]
    },
    {
      "cell_type": "code",
      "metadata": {
        "id": "L_fDjA4nhU8j"
      },
      "source": [
        "x = torch.rand(n_input) # Samples float values from [0,1) uniform distribution (interval doesn't include 1)"
      ],
      "execution_count": 5,
      "outputs": []
    },
    {
      "cell_type": "code",
      "metadata": {
        "id": "fMquDxtzhU8m",
        "colab": {
          "base_uri": "https://localhost:8080/"
        },
        "outputId": "1de2a70c-4c8b-4e5c-c7bb-2da40d4189a1"
      },
      "source": [
        "x.shape"
      ],
      "execution_count": 6,
      "outputs": [
        {
          "output_type": "execute_result",
          "data": {
            "text/plain": [
              "torch.Size([784])"
            ]
          },
          "metadata": {},
          "execution_count": 6
        }
      ]
    },
    {
      "cell_type": "code",
      "metadata": {
        "id": "ECeWngtshU8p",
        "colab": {
          "base_uri": "https://localhost:8080/"
        },
        "outputId": "19f028d2-0655-4b78-996e-44e51f13c327"
      },
      "source": [
        "x[0:6]"
      ],
      "execution_count": 7,
      "outputs": [
        {
          "output_type": "execute_result",
          "data": {
            "text/plain": [
              "tensor([0.8823, 0.9150, 0.3829, 0.9593, 0.3904, 0.6009])"
            ]
          },
          "metadata": {},
          "execution_count": 7
        }
      ]
    },
    {
      "cell_type": "code",
      "metadata": {
        "id": "Po1ffSeohU8s",
        "colab": {
          "base_uri": "https://localhost:8080/",
          "height": 430
        },
        "outputId": "2d2a3665-7a7b-4f4a-82da-471097dd7c70"
      },
      "source": [
        "_ = plt.hist(x)"
      ],
      "execution_count": 8,
      "outputs": [
        {
          "output_type": "display_data",
          "data": {
            "text/plain": [
              "<Figure size 640x480 with 1 Axes>"
            ],
            "image/png": "[encoded data removed]"
          },
          "metadata": {}
        }
      ]
    },
    {
      "cell_type": "markdown",
      "metadata": {
        "id": "jAtgSZkkhU8u"
      },
      "source": [
        "Create tensors to store neuron parameters (i.e., weight matrix `W`, bias vector `b`) and initialize them with starting values:"
      ]
    },
    {
      "cell_type": "code",
      "metadata": {
        "id": "Xz8ho_F8hU8u"
      },
      "source": [
        "b = torch.zeros(n_dense)"
      ],
      "execution_count": null,
      "outputs": []
    },
    {
      "cell_type": "code",
      "metadata": {
        "id": "fLNQg0SehU8x",
        "outputId": "d15a2afd-461d-43cb-d5d8-48ed605de798"
      },
      "source": [
        "b.shape"
      ],
      "execution_count": null,
      "outputs": [
        {
          "output_type": "execute_result",
          "data": {
            "text/plain": [
              "torch.Size([128])"
            ]
          },
          "metadata": {
            "tags": []
          },
          "execution_count": 9
        }
      ]
    },
    {
      "cell_type": "code",
      "metadata": {
        "id": "n2IamD5phU8z",
        "outputId": "98137b49-5eff-4cb3-9f14-3c5f39bc7d62"
      },
      "source": [
        "b[0:6]"
      ],
      "execution_count": null,
      "outputs": [
        {
          "output_type": "execute_result",
          "data": {
            "text/plain": [
              "tensor([0., 0., 0., 0., 0., 0.])"
            ]
          },
          "metadata": {
            "tags": []
          },
          "execution_count": 10
        }
      ]
    },
    {
      "cell_type": "code",
      "metadata": {
        "id": "2pbT93JshU81"
      },
      "source": [
        "W = torch.empty([n_input, n_dense])\n",
        "W = torch.nn.init.xavier_normal_(W)"
      ],
      "execution_count": null,
      "outputs": []
    },
    {
      "cell_type": "code",
      "metadata": {
        "id": "WJResuyMhU84",
        "outputId": "96f028ec-0761-4eee-d187-5e31d4d0a496"
      },
      "source": [
        "W.shape"
      ],
      "execution_count": null,
      "outputs": [
        {
          "output_type": "execute_result",
          "data": {
            "text/plain": [
              "torch.Size([784, 128])"
            ]
          },
          "metadata": {
            "tags": []
          },
          "execution_count": 12
        }
      ]
    },
    {
      "cell_type": "code",
      "metadata": {
        "id": "48_BVbr2hU87",
        "outputId": "95f3fb25-a6fd-487f-bd7f-593dea237bd7"
      },
      "source": [
        "W[0:4, 0:4]"
      ],
      "execution_count": null,
      "outputs": [
        {
          "output_type": "execute_result",
          "data": {
            "text/plain": [
              "tensor([[ 0.0008,  0.0038,  0.0349,  0.0630],\n",
              "        [ 0.0872, -0.0505,  0.0414, -0.0391],\n",
              "        [-0.0162, -0.0056,  0.0555, -0.0571],\n",
              "        [ 0.0050, -0.0144,  0.0405, -0.0499]])"
            ]
          },
          "metadata": {
            "tags": []
          },
          "execution_count": 13
        }
      ]
    },
    {
      "cell_type": "markdown",
      "metadata": {
        "id": "tfQC0hb7hU89"
      },
      "source": [
        "Pass the \"input image\" `x` through a *dense* neuron layer with a *sigmoid activation function* to output the vector tensor `a`, which contains one element per neuron:"
      ]
    },
    {
      "cell_type": "code",
      "metadata": {
        "id": "QIsGHaKfhU89"
      },
      "source": [
        "z = torch.add(torch.matmul(x, W), b)"
      ],
      "execution_count": null,
      "outputs": []
    },
    {
      "cell_type": "code",
      "metadata": {
        "id": "ZklBDX1OhU8_"
      },
      "source": [
        "a = torch.sigmoid(z)"
      ],
      "execution_count": null,
      "outputs": []
    },
    {
      "cell_type": "code",
      "metadata": {
        "id": "QCI3pZwthU9B",
        "outputId": "e5e2506c-14b4-4959-df4f-e6a97408558b"
      },
      "source": [
        "a.shape"
      ],
      "execution_count": null,
      "outputs": [
        {
          "output_type": "execute_result",
          "data": {
            "text/plain": [
              "torch.Size([128])"
            ]
          },
          "metadata": {
            "tags": []
          },
          "execution_count": 16
        }
      ]
    },
    {
      "cell_type": "code",
      "metadata": {
        "id": "zUIWCKjxhU9E",
        "outputId": "d7343ff1-9caf-4194-8632-c81b524949d4"
      },
      "source": [
        "_ = plt.hist(a)"
      ],
      "execution_count": null,
      "outputs": [
        {
          "output_type": "display_data",
          "data": {
            "image/png": "[encoded data removed]",
            "text/plain": [
              "<Figure size 432x288 with 1 Axes>"
            ]
          },
          "metadata": {
            "tags": [],
            "needs_background": "light"
          }
        }
      ]
    },
    {
      "cell_type": "code",
      "metadata": {
        "id": "E2rFwCZ0hU9H"
      },
      "source": [],
      "execution_count": null,
      "outputs": []
    }
  ]
}